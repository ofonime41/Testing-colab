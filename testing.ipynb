{
  "nbformat": 4,
  "nbformat_minor": 0,
  "metadata": {
    "colab": {
      "provenance": [],
      "toc_visible": true,
      "authorship_tag": "ABX9TyO9ZTzTXk3dSN2F/oU9kVE4",
      "include_colab_link": true
    },
    "kernelspec": {
      "name": "python3",
      "display_name": "Python 3"
    },
    "language_info": {
      "name": "python"
    }
  },
  "cells": [
    {
      "cell_type": "markdown",
      "metadata": {
        "id": "view-in-github",
        "colab_type": "text"
      },
      "source": [
        "<a href=\"https://colab.research.google.com/github/ofonime41/Testing-colab/blob/main/testing.ipynb\" target=\"_parent\"><img src=\"https://colab.research.google.com/assets/colab-badge.svg\" alt=\"Open In Colab\"/></a>"
      ]
    },
    {
      "cell_type": "markdown",
      "source": [
        "# **Testing GoogleLab and Fastai**"
      ],
      "metadata": {
        "id": "Mvwu3bZLjUx0"
      }
    },
    {
      "cell_type": "code",
      "source": [],
      "metadata": {
        "id": "5AWJqDJijjL3"
      },
      "execution_count": null,
      "outputs": []
    },
    {
      "cell_type": "code",
      "source": [
        "# prompt: A code for classifying image using fastai\n",
        "\n",
        "!pip install -Uqq fastbook\n",
        "import fastbook\n",
        "fastbook.setup_book()\n",
        "\n",
        "from fastai.vision.all import *\n",
        "from fastbook import *\n",
        "\n",
        "# Download dataset\n",
        "path = untar_data(URLs.PETS)\n",
        "path_anno = path/'annotations'\n",
        "path_images = path/'images'\n",
        "\n",
        "# Function to check if a filename represents a cat image\n",
        "def is_cat(x): return x[0].isupper()\n",
        "\n",
        "# Create a data block for image classification\n",
        "dls = ImageDataLoaders.from_name_func(\n",
        "    path,  # Path to the dataset\n",
        "    get_image_files(path/'images'), # Get image files\n",
        "    valid_pct=0.2, # Percentage of data for validation\n",
        "    seed=42, # Random seed for reproducibility\n",
        "    label_func=is_cat, # Function to get the label\n",
        "    item_tfms=Resize(224) # Resize images to 244x244\n",
        ")\n",
        "\n",
        "# Create a CNN learner\n",
        "learn = cnn_learner(dls, resnet34, metrics=error_rate)\n",
        "\n",
        "# Fine-tune the model\n",
        "learn.fine_tune(1)\n",
        "\n",
        "# Make a prediction on a sample image\n",
        "img = PILImage.create(get_image_files(path/'images')[0])\n",
        "is_cat,_,probs = learn.predict(img)\n",
        "print(f\"Is this a cat?: {is_cat}.\")\n",
        "print(f\"Probability it's a cat: {probs[1].item():.6f}\")\n"
      ],
      "metadata": {
        "id": "w0sXrKGvi8Gb"
      },
      "execution_count": null,
      "outputs": []
    },
    {
      "cell_type": "code",
      "source": [
        "print('Hello WORLD')\n"
      ],
      "metadata": {
        "colab": {
          "base_uri": "https://localhost:8080/"
        },
        "id": "TDZhQWFpLJww",
        "outputId": "b2632ba5-607d-4544-8a86-b1ca0a9d9a00"
      },
      "execution_count": null,
      "outputs": [
        {
          "output_type": "stream",
          "name": "stdout",
          "text": [
            "Hello WORLD\n"
          ]
        }
      ]
    }
  ]
}